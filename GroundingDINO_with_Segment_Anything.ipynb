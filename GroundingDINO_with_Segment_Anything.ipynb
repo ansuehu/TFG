{
  "cells": [
    {
      "cell_type": "markdown",
      "metadata": {
        "colab_type": "text",
        "id": "view-in-github"
      },
      "source": [
        "<a href=\"https://colab.research.google.com/github/NielsRogge/Transformers-Tutorials/blob/master/Grounding%20DINO/GroundingDINO_with_Segment_Anything.ipynb\" target=\"_parent\"><img src=\"https://colab.research.google.com/assets/colab-badge.svg\" alt=\"Open In Colab\"/></a>"
      ]
    },
    {
      "cell_type": "markdown",
      "metadata": {
        "id": "Wgj3tUoobAlj"
      },
      "source": [
        "# Combining Grounding DINO with Segment Anything (SAM) for text-based mask generation\n",
        "\n",
        "In this notebook, we're going to combine 2 very cool models - [Grounding DINO](https://huggingface.co/docs/transformers/main/en/model_doc/grounding-dino) and [SAM](https://huggingface.co/docs/transformers/en/model_doc/sam). We'll use Grounding DINO to generate bounding boxes based on text prompts, after which we can prompt SAM to generate corresponding segmentation masks for them.\n",
        "\n",
        "This is based on the popular [Grounded Segment Anything](https://github.com/IDEA-Research/Grounded-Segment-Anything) project - just with fewer lines of code as the models are now available in the Transformers library. Refer to the [paper](https://arxiv.org/abs/2401.14159) for details.\n",
        "\n",
        "<img src=\"https://huggingface.co/datasets/huggingface/documentation-images/resolve/main/transformers/model_doc/grounded_sam.png\"\n",
        "alt=\"drawing\" width=\"900\"/>\n",
        "\n",
        "<small> Grounded SAM overview. Taken from the <a href=\"https://github.com/IDEA-Research/Grounded-Segment-Anything\">original repository</a>. </small>\n",
        "\n",
        "Author of this notebook: [Eduardo Pacheco](https://huggingface.co/EduardoPacheco) - give him a follow on Hugging\n",
        " Face!\n",
        "\n",
        "## Set-up environment\n",
        "\n",
        "Let's start by installing 🤗 Transformers from source since Grounding DINO is brand new at the time of writing."
      ]
    },
    {
      "cell_type": "code",
      "execution_count": 1,
      "metadata": {
        "colab": {
          "base_uri": "https://localhost:8080/"
        },
        "id": "78i_LKhJYz8M",
        "outputId": "c3e2387a-e82d-4fd7-8bd9-5d4b90e829d6"
      },
      "outputs": [],
      "source": [
        "!pip install --upgrade -q git+https://github.com/huggingface/transformers"
      ]
    },
    {
      "cell_type": "code",
      "execution_count": 3,
      "metadata": {},
      "outputs": [
        {
          "name": "stdout",
          "output_type": "stream",
          "text": [
            "^C\n"
          ]
        },
        {
          "name": "stdout",
          "output_type": "stream",
          "text": [
            "Collecting plotly\n",
            "  Downloading plotly-5.22.0-py3-none-any.whl.metadata (7.1 kB)\n",
            "Collecting tenacity>=6.2.0 (from plotly)\n",
            "  Downloading tenacity-8.3.0-py3-none-any.whl.metadata (1.2 kB)\n",
            "Requirement already satisfied: packaging in c:\\users\\biele\\.conda\\envs\\vision\\lib\\site-packages (from plotly) (23.2)\n",
            "Downloading plotly-5.22.0-py3-none-any.whl (16.4 MB)\n",
            "   ---------------------------------------- 0.0/16.4 MB ? eta -:--:--\n",
            "   ---------------------------------------- 0.0/16.4 MB ? eta -:--:--\n",
            "   ---------------------------------------- 0.0/16.4 MB 495.5 kB/s eta 0:00:34\n",
            "   ---------------------------------------- 0.1/16.4 MB 1.2 MB/s eta 0:00:14\n",
            "    --------------------------------------- 0.2/16.4 MB 1.9 MB/s eta 0:00:09\n",
            "   - -------------------------------------- 0.5/16.4 MB 2.6 MB/s eta 0:00:07\n",
            "   - -------------------------------------- 0.7/16.4 MB 3.3 MB/s eta 0:00:05\n",
            "   -- ------------------------------------- 0.9/16.4 MB 3.9 MB/s eta 0:00:04\n",
            "   -- ------------------------------------- 1.2/16.4 MB 4.3 MB/s eta 0:00:04\n",
            "   --- ------------------------------------ 1.4/16.4 MB 4.5 MB/s eta 0:00:04\n",
            "   ---- ----------------------------------- 1.7/16.4 MB 4.9 MB/s eta 0:00:04\n",
            "   ---- ----------------------------------- 1.9/16.4 MB 4.9 MB/s eta 0:00:03\n",
            "   ----- ---------------------------------- 2.2/16.4 MB 5.1 MB/s eta 0:00:03\n",
            "   ----- ---------------------------------- 2.4/16.4 MB 5.3 MB/s eta 0:00:03\n",
            "   ------ --------------------------------- 2.6/16.4 MB 5.4 MB/s eta 0:00:03\n",
            "   ------- -------------------------------- 2.9/16.4 MB 5.4 MB/s eta 0:00:03\n",
            "   ------- -------------------------------- 3.1/16.4 MB 5.5 MB/s eta 0:00:03\n",
            "   -------- ------------------------------- 3.4/16.4 MB 5.7 MB/s eta 0:00:03\n",
            "   -------- ------------------------------- 3.6/16.4 MB 5.6 MB/s eta 0:00:03\n",
            "   --------- ------------------------------ 3.9/16.4 MB 5.7 MB/s eta 0:00:03\n",
            "   ---------- ----------------------------- 4.1/16.4 MB 5.8 MB/s eta 0:00:03\n",
            "   ---------- ----------------------------- 4.3/16.4 MB 5.9 MB/s eta 0:00:03\n",
            "   ----------- ---------------------------- 4.6/16.4 MB 5.8 MB/s eta 0:00:03\n",
            "   ----------- ---------------------------- 4.8/16.4 MB 5.9 MB/s eta 0:00:02\n",
            "   ------------ --------------------------- 5.1/16.4 MB 6.0 MB/s eta 0:00:02\n",
            "   ------------ --------------------------- 5.3/16.4 MB 5.9 MB/s eta 0:00:02\n",
            "   ------------- -------------------------- 5.6/16.4 MB 6.0 MB/s eta 0:00:02\n",
            "   -------------- ------------------------- 5.8/16.4 MB 6.1 MB/s eta 0:00:02\n",
            "   -------------- ------------------------- 6.0/16.4 MB 6.1 MB/s eta 0:00:02\n",
            "   --------------- ------------------------ 6.3/16.4 MB 6.1 MB/s eta 0:00:02\n",
            "   --------------- ------------------------ 6.5/16.4 MB 6.1 MB/s eta 0:00:02\n",
            "   ---------------- ----------------------- 6.7/16.4 MB 6.1 MB/s eta 0:00:02\n",
            "   ----------------- ---------------------- 7.0/16.4 MB 6.1 MB/s eta 0:00:02\n",
            "   ----------------- ---------------------- 7.2/16.4 MB 6.2 MB/s eta 0:00:02\n",
            "   ------------------ --------------------- 7.5/16.4 MB 6.2 MB/s eta 0:00:02\n",
            "   ------------------ --------------------- 7.7/16.4 MB 6.2 MB/s eta 0:00:02\n",
            "   ------------------- -------------------- 8.0/16.4 MB 6.3 MB/s eta 0:00:02\n",
            "   -------------------- ------------------- 8.2/16.4 MB 6.3 MB/s eta 0:00:02\n",
            "   -------------------- ------------------- 8.4/16.4 MB 6.3 MB/s eta 0:00:02\n",
            "   --------------------- ------------------ 8.7/16.4 MB 6.3 MB/s eta 0:00:02\n",
            "   --------------------- ------------------ 8.9/16.4 MB 6.3 MB/s eta 0:00:02\n",
            "   ---------------------- ----------------- 9.2/16.4 MB 6.3 MB/s eta 0:00:02\n",
            "   ----------------------- ---------------- 9.4/16.4 MB 6.3 MB/s eta 0:00:02\n",
            "   ----------------------- ---------------- 9.7/16.4 MB 6.3 MB/s eta 0:00:02\n",
            "   ------------------------ --------------- 9.9/16.4 MB 6.3 MB/s eta 0:00:02\n",
            "   ------------------------ --------------- 10.1/16.4 MB 6.3 MB/s eta 0:00:01\n",
            "   ------------------------- -------------- 10.4/16.4 MB 6.7 MB/s eta 0:00:01\n",
            "   ------------------------- -------------- 10.6/16.4 MB 6.8 MB/s eta 0:00:01\n",
            "   -------------------------- ------------- 10.9/16.4 MB 6.8 MB/s eta 0:00:01\n",
            "   --------------------------- ------------ 11.1/16.4 MB 6.8 MB/s eta 0:00:01\n",
            "   --------------------------- ------------ 11.4/16.4 MB 6.7 MB/s eta 0:00:01\n",
            "   ---------------------------- ----------- 11.6/16.4 MB 6.8 MB/s eta 0:00:01\n",
            "   ---------------------------- ----------- 11.8/16.4 MB 6.7 MB/s eta 0:00:01\n",
            "   ----------------------------- ---------- 12.1/16.4 MB 6.8 MB/s eta 0:00:01\n",
            "   ----------------------------- ---------- 12.3/16.4 MB 6.7 MB/s eta 0:00:01\n",
            "   ------------------------------ --------- 12.6/16.4 MB 6.8 MB/s eta 0:00:01\n",
            "   ------------------------------- -------- 12.8/16.4 MB 6.8 MB/s eta 0:00:01\n",
            "   ------------------------------- -------- 13.0/16.4 MB 6.7 MB/s eta 0:00:01\n",
            "   -------------------------------- ------- 13.3/16.4 MB 6.8 MB/s eta 0:00:01\n",
            "   -------------------------------- ------- 13.5/16.4 MB 6.7 MB/s eta 0:00:01\n",
            "   --------------------------------- ------ 13.7/16.4 MB 6.8 MB/s eta 0:00:01\n",
            "   ---------------------------------- ----- 14.0/16.4 MB 6.7 MB/s eta 0:00:01\n",
            "   ---------------------------------- ----- 14.2/16.4 MB 6.7 MB/s eta 0:00:01\n",
            "   ----------------------------------- ---- 14.5/16.4 MB 6.8 MB/s eta 0:00:01\n",
            "   ----------------------------------- ---- 14.7/16.4 MB 6.7 MB/s eta 0:00:01\n",
            "   ------------------------------------ --- 15.0/16.4 MB 6.8 MB/s eta 0:00:01\n",
            "   ------------------------------------- -- 15.2/16.4 MB 6.7 MB/s eta 0:00:01\n",
            "   ------------------------------------- -- 15.5/16.4 MB 6.8 MB/s eta 0:00:01\n",
            "   -------------------------------------- - 15.7/16.4 MB 6.7 MB/s eta 0:00:01\n",
            "   -------------------------------------- - 15.9/16.4 MB 6.7 MB/s eta 0:00:01\n",
            "   ---------------------------------------  16.1/16.4 MB 6.8 MB/s eta 0:00:01\n",
            "   ---------------------------------------  16.4/16.4 MB 6.7 MB/s eta 0:00:01\n",
            "   ---------------------------------------  16.4/16.4 MB 6.7 MB/s eta 0:00:01\n",
            "   ---------------------------------------- 16.4/16.4 MB 6.5 MB/s eta 0:00:00\n",
            "Downloading tenacity-8.3.0-py3-none-any.whl (25 kB)\n",
            "Installing collected packages: tenacity, plotly\n",
            "Successfully installed plotly-5.22.0 tenacity-8.3.0\n"
          ]
        }
      ],
      "source": [
        "!pip install plotly"
      ]
    },
    {
      "cell_type": "markdown",
      "metadata": {
        "id": "7r9dNrDHy2tA"
      },
      "source": [
        "## Imports\n",
        "\n",
        "Let's start by importing the required libraries."
      ]
    },
    {
      "cell_type": "code",
      "execution_count": 50,
      "metadata": {
        "id": "Y2vA9eeacmIc"
      },
      "outputs": [],
      "source": [
        "import random\n",
        "from dataclasses import dataclass\n",
        "from typing import Any, List, Dict, Optional, Union, Tuple\n",
        "\n",
        "import cv2\n",
        "import torch\n",
        "import requests\n",
        "import numpy as np\n",
        "from PIL import Image\n",
        "import plotly.express as px\n",
        "import matplotlib.pyplot as plt\n",
        "import plotly.graph_objects as go\n",
        "from transformers import AutoModelForMaskGeneration, AutoProcessor, pipeline\n",
        "import time"
      ]
    },
    {
      "cell_type": "markdown",
      "metadata": {
        "id": "A1NxJzCNrnjH"
      },
      "source": [
        "## Result Utils\n",
        "\n",
        "We'll store the detection results of Grounding DINO in a dedicated Python dataclass."
      ]
    },
    {
      "cell_type": "code",
      "execution_count": 7,
      "metadata": {
        "id": "ZgeXiUwIrpqJ"
      },
      "outputs": [],
      "source": [
        "@dataclass\n",
        "class BoundingBox:\n",
        "    xmin: int\n",
        "    ymin: int\n",
        "    xmax: int\n",
        "    ymax: int\n",
        "\n",
        "    @property\n",
        "    def xyxy(self) -> List[float]:\n",
        "        return [self.xmin, self.ymin, self.xmax, self.ymax]\n",
        "\n",
        "@dataclass\n",
        "class DetectionResult:\n",
        "    score: float\n",
        "    label: str\n",
        "    box: BoundingBox\n",
        "    mask: Optional[np.array] = None\n",
        "\n",
        "    @classmethod\n",
        "    def from_dict(cls, detection_dict: Dict) -> 'DetectionResult':\n",
        "        return cls(score=detection_dict['score'],\n",
        "                   label=detection_dict['label'],\n",
        "                   box=BoundingBox(xmin=detection_dict['box']['xmin'],\n",
        "                                   ymin=detection_dict['box']['ymin'],\n",
        "                                   xmax=detection_dict['box']['xmax'],\n",
        "                                   ymax=detection_dict['box']['ymax']))"
      ]
    },
    {
      "cell_type": "markdown",
      "metadata": {
        "id": "uCzSUQL5lAvE"
      },
      "source": [
        "## Plot Utils\n",
        "\n",
        "Below, some utility functions are defined as we'll draw the detection results of Grounding DINO on top of the image."
      ]
    },
    {
      "cell_type": "code",
      "execution_count": 28,
      "metadata": {
        "id": "Zah3Esewo4P6"
      },
      "outputs": [],
      "source": [
        "def annotate(image: Union[Image.Image, np.ndarray], detection_results: List[DetectionResult]) -> np.ndarray:\n",
        "    # Convert PIL Image to OpenCV format\n",
        "    image_cv2 = np.array(image) if isinstance(image, Image.Image) else image\n",
        "    image_cv2 = cv2.cvtColor(image_cv2, cv2.COLOR_RGB2BGR)\n",
        "\n",
        "    # Iterate over detections and add bounding boxes and masks\n",
        "    for detection in detection_results:\n",
        "        label = detection.label\n",
        "        score = detection.score\n",
        "        # box = detection.box\n",
        "        mask = detection.mask\n",
        "\n",
        "        # Sample a random color for each detection\n",
        "        color = np.random.randint(0, 256, size=3)\n",
        "\n",
        "        # Draw bounding box\n",
        "        # cv2.rectangle(image_cv2, (box.xmin, box.ymin), (box.xmax, box.ymax), color.tolist(), 2)\n",
        "        # cv2.putText(image_cv2, f'{label}: {score:.2f}', (box.xmin, box.ymin - 10), cv2.FONT_HERSHEY_SIMPLEX, 0.5, color.tolist(), 2)\n",
        "\n",
        "        # If mask is available, apply it\n",
        "        if mask is not None:\n",
        "            # Convert mask to uint8\n",
        "            mask_uint8 = (mask * 255).astype(np.uint8)\n",
        "            contours, _ = cv2.findContours(mask_uint8, cv2.RETR_EXTERNAL, cv2.CHAIN_APPROX_SIMPLE)\n",
        "            cv2.drawContours(image_cv2, contours, -1, color.tolist(), 2)\n",
        "\n",
        "    return cv2.cvtColor(image_cv2, cv2.COLOR_BGR2RGB)\n",
        "\n",
        "def plot_detections(\n",
        "    image: Union[Image.Image, np.ndarray],\n",
        "    detections: List[DetectionResult],\n",
        "    save_name: Optional[str] = None\n",
        ") -> None:\n",
        "    annotated_image = annotate(image, detections)\n",
        "    plt.imshow(annotated_image)\n",
        "    plt.axis('off')\n",
        "    if save_name:\n",
        "        plt.savefig(save_name, bbox_inches='tight')\n",
        "    plt.show()"
      ]
    },
    {
      "cell_type": "code",
      "execution_count": 29,
      "metadata": {
        "id": "Wzjx3MLPjyW8"
      },
      "outputs": [],
      "source": [
        "def random_named_css_colors(num_colors: int) -> List[str]:\n",
        "    \"\"\"\n",
        "    Returns a list of randomly selected named CSS colors.\n",
        "\n",
        "    Args:\n",
        "    - num_colors (int): Number of random colors to generate.\n",
        "\n",
        "    Returns:\n",
        "    - list: List of randomly selected named CSS colors.\n",
        "    \"\"\"\n",
        "    # List of named CSS colors\n",
        "    named_css_colors = [\n",
        "        'aliceblue', 'antiquewhite', 'aqua', 'aquamarine', 'azure', 'beige', 'bisque', 'black', 'blanchedalmond',\n",
        "        'blue', 'blueviolet', 'brown', 'burlywood', 'cadetblue', 'chartreuse', 'chocolate', 'coral', 'cornflowerblue',\n",
        "        'cornsilk', 'crimson', 'cyan', 'darkblue', 'darkcyan', 'darkgoldenrod', 'darkgray', 'darkgreen', 'darkgrey',\n",
        "        'darkkhaki', 'darkmagenta', 'darkolivegreen', 'darkorange', 'darkorchid', 'darkred', 'darksalmon', 'darkseagreen',\n",
        "        'darkslateblue', 'darkslategray', 'darkslategrey', 'darkturquoise', 'darkviolet', 'deeppink', 'deepskyblue',\n",
        "        'dimgray', 'dimgrey', 'dodgerblue', 'firebrick', 'floralwhite', 'forestgreen', 'fuchsia', 'gainsboro', 'ghostwhite',\n",
        "        'gold', 'goldenrod', 'gray', 'green', 'greenyellow', 'grey', 'honeydew', 'hotpink', 'indianred', 'indigo', 'ivory',\n",
        "        'khaki', 'lavender', 'lavenderblush', 'lawngreen', 'lemonchiffon', 'lightblue', 'lightcoral', 'lightcyan', 'lightgoldenrodyellow',\n",
        "        'lightgray', 'lightgreen', 'lightgrey', 'lightpink', 'lightsalmon', 'lightseagreen', 'lightskyblue', 'lightslategray',\n",
        "        'lightslategrey', 'lightsteelblue', 'lightyellow', 'lime', 'limegreen', 'linen', 'magenta', 'maroon', 'mediumaquamarine',\n",
        "        'mediumblue', 'mediumorchid', 'mediumpurple', 'mediumseagreen', 'mediumslateblue', 'mediumspringgreen', 'mediumturquoise',\n",
        "        'mediumvioletred', 'midnightblue', 'mintcream', 'mistyrose', 'moccasin', 'navajowhite', 'navy', 'oldlace', 'olive',\n",
        "        'olivedrab', 'orange', 'orangered', 'orchid', 'palegoldenrod', 'palegreen', 'paleturquoise', 'palevioletred', 'papayawhip',\n",
        "        'peachpuff', 'peru', 'pink', 'plum', 'powderblue', 'purple', 'rebeccapurple', 'red', 'rosybrown', 'royalblue', 'saddlebrown',\n",
        "        'salmon', 'sandybrown', 'seagreen', 'seashell', 'sienna', 'silver', 'skyblue', 'slateblue', 'slategray', 'slategrey',\n",
        "        'snow', 'springgreen', 'steelblue', 'tan', 'teal', 'thistle', 'tomato', 'turquoise', 'violet', 'wheat', 'white',\n",
        "        'whitesmoke', 'yellow', 'yellowgreen'\n",
        "    ]\n",
        "\n",
        "    # Sample random named CSS colors\n",
        "    return random.sample(named_css_colors, min(num_colors, len(named_css_colors)))\n",
        "\n",
        "def plot_detections_plotly(\n",
        "    image: np.ndarray,\n",
        "    detections: List[DetectionResult],\n",
        "    class_colors: Optional[Dict[str, str]] = None\n",
        ") -> None:\n",
        "    # If class_colors is not provided, generate random colors for each class\n",
        "    if class_colors is None:\n",
        "        num_detections = len(detections)\n",
        "        colors = random_named_css_colors(num_detections)\n",
        "        class_colors = {}\n",
        "        for i in range(num_detections):\n",
        "            class_colors[i] = colors[i]\n",
        "\n",
        "\n",
        "    fig = px.imshow(image)\n",
        "\n",
        "    # Add bounding boxes\n",
        "    shapes = []\n",
        "    annotations = []\n",
        "    for idx, detection in enumerate(detections):\n",
        "        label = detection.label\n",
        "        box = detection.box\n",
        "        score = detection.score\n",
        "        mask = detection.mask\n",
        "\n",
        "        polygon = mask_to_polygon(mask)\n",
        "\n",
        "        fig.add_trace(go.Scatter(\n",
        "            x=[point[0] for point in polygon] + [polygon[0][0]],\n",
        "            y=[point[1] for point in polygon] + [polygon[0][1]],\n",
        "            mode='lines',\n",
        "            line=dict(color=class_colors[idx], width=2),\n",
        "            fill='toself',\n",
        "            name=f\"{label}: {score:.2f}\"\n",
        "        ))\n",
        "\n",
        "        xmin, ymin, xmax, ymax = box.xyxy\n",
        "        shape = [\n",
        "            dict(\n",
        "                type=\"rect\",\n",
        "                xref=\"x\", yref=\"y\",\n",
        "                x0=xmin, y0=ymin,\n",
        "                x1=xmax, y1=ymax,\n",
        "                line=dict(color=class_colors[idx])\n",
        "            )\n",
        "        ]\n",
        "        annotation = [\n",
        "            dict(\n",
        "                x=(xmin+xmax) // 2, y=(ymin+ymax) // 2,\n",
        "                xref=\"x\", yref=\"y\",\n",
        "                text=f\"{label}: {score:.2f}\",\n",
        "            )\n",
        "        ]\n",
        "\n",
        "        shapes.append(shape)\n",
        "        annotations.append(annotation)\n",
        "\n",
        "    # Update layout\n",
        "    button_shapes = [dict(label=\"None\",method=\"relayout\",args=[\"shapes\", []])]\n",
        "    button_shapes = button_shapes + [\n",
        "        dict(label=f\"Detection {idx+1}\",method=\"relayout\",args=[\"shapes\", shape]) for idx, shape in enumerate(shapes)\n",
        "    ]\n",
        "    button_shapes = button_shapes + [dict(label=\"All\", method=\"relayout\", args=[\"shapes\", sum(shapes, [])])]\n",
        "\n",
        "    fig.update_layout(\n",
        "        xaxis=dict(visible=False),\n",
        "        yaxis=dict(visible=False),\n",
        "        # margin=dict(l=0, r=0, t=0, b=0),\n",
        "        showlegend=True,\n",
        "        updatemenus=[\n",
        "            dict(\n",
        "                type=\"buttons\",\n",
        "                direction=\"up\",\n",
        "                buttons=button_shapes\n",
        "            )\n",
        "        ],\n",
        "        legend=dict(\n",
        "            orientation=\"h\",\n",
        "            yanchor=\"bottom\",\n",
        "            y=1.02,\n",
        "            xanchor=\"right\",\n",
        "            x=1\n",
        "        )\n",
        "    )\n",
        "\n",
        "    # Show plot\n",
        "    fig.show()\n"
      ]
    },
    {
      "cell_type": "markdown",
      "metadata": {
        "id": "A856bC-Nha45"
      },
      "source": [
        "## Utils"
      ]
    },
    {
      "cell_type": "code",
      "execution_count": 10,
      "metadata": {
        "id": "vIqTxb5LhcjU"
      },
      "outputs": [],
      "source": [
        "def mask_to_polygon(mask: np.ndarray) -> List[List[int]]:\n",
        "    # Find contours in the binary mask\n",
        "    contours, _ = cv2.findContours(mask.astype(np.uint8), cv2.RETR_EXTERNAL, cv2.CHAIN_APPROX_SIMPLE)\n",
        "\n",
        "    # Find the contour with the largest area\n",
        "    largest_contour = max(contours, key=cv2.contourArea)\n",
        "\n",
        "    # Extract the vertices of the contour\n",
        "    polygon = largest_contour.reshape(-1, 2).tolist()\n",
        "\n",
        "    return polygon\n",
        "\n",
        "def polygon_to_mask(polygon: List[Tuple[int, int]], image_shape: Tuple[int, int]) -> np.ndarray:\n",
        "    \"\"\"\n",
        "    Convert a polygon to a segmentation mask.\n",
        "\n",
        "    Args:\n",
        "    - polygon (list): List of (x, y) coordinates representing the vertices of the polygon.\n",
        "    - image_shape (tuple): Shape of the image (height, width) for the mask.\n",
        "\n",
        "    Returns:\n",
        "    - np.ndarray: Segmentation mask with the polygon filled.\n",
        "    \"\"\"\n",
        "    # Create an empty mask\n",
        "    mask = np.zeros(image_shape, dtype=np.uint8)\n",
        "\n",
        "    # Convert polygon to an array of points\n",
        "    pts = np.array(polygon, dtype=np.int32)\n",
        "\n",
        "    # Fill the polygon with white color (255)\n",
        "    cv2.fillPoly(mask, [pts], color=(255,))\n",
        "\n",
        "    return mask\n",
        "\n",
        "def load_image(image_str: str) -> Image.Image:\n",
        "    if image_str.startswith(\"http\"):\n",
        "        image = Image.open(requests.get(image_str, stream=True).raw).convert(\"RGB\")\n",
        "    else:\n",
        "        image = Image.open(image_str).convert(\"RGB\")\n",
        "\n",
        "    return image\n",
        "\n",
        "def get_boxes(results: DetectionResult) -> List[List[List[float]]]:\n",
        "    boxes = []\n",
        "    for result in results:\n",
        "        xyxy = result.box.xyxy\n",
        "        boxes.append(xyxy)\n",
        "\n",
        "    return [boxes]\n",
        "\n",
        "def refine_masks(masks: torch.BoolTensor, polygon_refinement: bool = False) -> List[np.ndarray]:\n",
        "    masks = masks.cpu().float()\n",
        "    masks = masks.permute(0, 2, 3, 1)\n",
        "    masks = masks.mean(axis=-1)\n",
        "    masks = (masks > 0).int()\n",
        "    masks = masks.numpy().astype(np.uint8)\n",
        "    masks = list(masks)\n",
        "\n",
        "    if polygon_refinement:\n",
        "        for idx, mask in enumerate(masks):\n",
        "            shape = mask.shape\n",
        "            polygon = mask_to_polygon(mask)\n",
        "            mask = polygon_to_mask(polygon, shape)\n",
        "            masks[idx] = mask\n",
        "\n",
        "    return masks"
      ]
    },
    {
      "cell_type": "markdown",
      "metadata": {
        "id": "fErkFJkmlEMl"
      },
      "source": [
        "## Grounded Segment Anything (SAM)\n",
        "\n",
        "Now it's time to define the Grounded SAM approach!\n",
        "\n",
        "The approach is very simple:\n",
        "1. use Grounding DINO to detect a given set of texts in the image. The output is a set of bounding boxes.\n",
        "2. prompt Segment Anything (SAM) with the bounding boxes, for which the model will output segmentation masks."
      ]
    },
    {
      "cell_type": "code",
      "execution_count": 52,
      "metadata": {
        "id": "8YbAUF2ZkL7Y"
      },
      "outputs": [],
      "source": [
        "def detect(\n",
        "    image: Image.Image,\n",
        "    labels: List[str],\n",
        "    threshold: float = 0.3,\n",
        "    detector_id: Optional[str] = None\n",
        ") -> List[Dict[str, Any]]:\n",
        "    \"\"\"\n",
        "    Use Grounding DINO to detect a set of labels in an image in a zero-shot fashion.\n",
        "    \"\"\"\n",
        "    device = \"cuda\" if torch.cuda.is_available() else \"cpu\"\n",
        "    detector_id = detector_id if detector_id is not None else \"IDEA-Research/grounding-dino-tiny\"\n",
        "    object_detector = pipeline(model=detector_id, task=\"zero-shot-object-detection\", device=device)\n",
        "\n",
        "    labels = [label if label.endswith(\".\") else label+\".\" for label in labels]\n",
        "\n",
        "    results = object_detector(image,  candidate_labels=labels, threshold=threshold)\n",
        "    results = [DetectionResult.from_dict(result) for result in results]\n",
        "\n",
        "    return results\n",
        "\n",
        "def segment(\n",
        "    image: Image.Image,\n",
        "    detection_results: List[Dict[str, Any]],\n",
        "    polygon_refinement: bool = False,\n",
        "    segmenter_id: Optional[str] = None\n",
        ") -> List[DetectionResult]:\n",
        "    \"\"\"\n",
        "    Use Segment Anything (SAM) to generate masks given an image + a set of bounding boxes.\n",
        "    \"\"\"\n",
        "    device = \"cuda\" if torch.cuda.is_available() else \"cpu\"\n",
        "    segmenter_id = segmenter_id if segmenter_id is not None else \"facebook/sam-vit-base\"\n",
        "\n",
        "    segmentator = AutoModelForMaskGeneration.from_pretrained(segmenter_id).to(device)\n",
        "    processor = AutoProcessor.from_pretrained(segmenter_id)\n",
        "\n",
        "    boxes = get_boxes(detection_results)\n",
        "    inputs = processor(images=image, input_boxes=boxes, return_tensors=\"pt\").to(device)\n",
        "\n",
        "    outputs = segmentator(**inputs)\n",
        "    masks = processor.post_process_masks(\n",
        "        masks=outputs.pred_masks,\n",
        "        original_sizes=inputs.original_sizes,\n",
        "        reshaped_input_sizes=inputs.reshaped_input_sizes\n",
        "    )[0]\n",
        "\n",
        "    masks = refine_masks(masks, polygon_refinement)\n",
        "\n",
        "    for detection_result, mask in zip(detection_results, masks):\n",
        "        detection_result.mask = mask\n",
        "\n",
        "    return detection_results\n",
        "\n",
        "def grounded_segmentation(\n",
        "    image: Union[Image.Image, str],\n",
        "    labels: List[str],\n",
        "    threshold: float = 0.3,\n",
        "    polygon_refinement: bool = False,\n",
        "    detector_id: Optional[str] = None,\n",
        "    segmenter_id: Optional[str] = None\n",
        ") -> Tuple[np.ndarray, List[DetectionResult]]:\n",
        "    if isinstance(image, str):\n",
        "        image = load_image(image)\n",
        "\n",
        "    hasi = time.time()\n",
        "    detections = detect(image, labels, threshold, detector_id)\n",
        "    erdikoa = time.time()\n",
        "    detections = segment(image, detections, polygon_refinement, segmenter_id)\n",
        "    bukatu = time.time()\n",
        "\n",
        "    print(f'Detection time {erdikoa-hasi}s')\n",
        "    print(f'Segmentation time {bukatu-erdikoa}s')\n",
        "    print(f'All {bukatu-hasi}s')\n",
        "\n",
        "    return np.array(image), detections"
      ]
    },
    {
      "cell_type": "markdown",
      "metadata": {
        "id": "Yo8cGKdxXWPR"
      },
      "source": [
        "### Inference\n",
        "\n",
        "Let's showcase Grounded SAM on our favorite image: the cats image from the COCO dataset."
      ]
    },
    {
      "cell_type": "code",
      "execution_count": 73,
      "metadata": {
        "id": "ypK7YEMQXXnA"
      },
      "outputs": [],
      "source": [
        "# image_url = \"http://images.cocodataset.org/val2017/000000039769.jpg\"\n",
        "image_url = 'C:/Users/Biele/Desktop/Andoni/promptless_taskspecific_finetuning_sam/Dataset tablero guztia/Tagged_Images/Tagged Images/image_0085.jpg'\n",
        "labels = ['a']\n",
        "threshold = 0.3\n",
        "\n",
        "detector_id = \"IDEA-Research/grounding-dino-tiny\"\n",
        "segmenter_id = \"facebook/sam-vit-base\""
      ]
    },
    {
      "cell_type": "code",
      "execution_count": 74,
      "metadata": {
        "id": "glgYnsahXYTw"
      },
      "outputs": [
        {
          "name": "stdout",
          "output_type": "stream",
          "text": [
            "Detection time 1.7196056842803955s\n",
            "Segmentation time 1.497546911239624s\n",
            "All 3.2171525955200195s\n"
          ]
        }
      ],
      "source": [
        "image_array, detections = grounded_segmentation(\n",
        "    image=image_url,\n",
        "    labels=labels,\n",
        "    threshold=threshold,\n",
        "    polygon_refinement=False,\n",
        "    detector_id=detector_id,\n",
        "    segmenter_id=segmenter_id\n",
        ")"
      ]
    },
    {
      "cell_type": "markdown",
      "metadata": {
        "id": "-sJrT5xMf_Ad"
      },
      "source": [
        "Let's visualize the results:"
      ]
    },
    {
      "cell_type": "code",
      "execution_count": 75,
      "metadata": {},
      "outputs": [
        {
          "data": {
            "text/plain": [
              "DetectionResult(score=0.37054508924484253, label='a.', box=BoundingBox(xmin=409, ymin=120, xmax=968, ymax=865), mask=array([[0, 0, 0, ..., 0, 0, 0],\n",
              "       [0, 0, 0, ..., 0, 0, 0],\n",
              "       [0, 0, 0, ..., 0, 0, 0],\n",
              "       ...,\n",
              "       [0, 0, 0, ..., 0, 0, 0],\n",
              "       [0, 0, 0, ..., 0, 0, 0],\n",
              "       [0, 0, 0, ..., 0, 0, 0]], dtype=uint8))"
            ]
          },
          "execution_count": 75,
          "metadata": {},
          "output_type": "execute_result"
        }
      ],
      "source": [
        "detections[0]"
      ]
    },
    {
      "cell_type": "code",
      "execution_count": 76,
      "metadata": {
        "colab": {
          "base_uri": "https://localhost:8080/",
          "height": 406
        },
        "id": "93pM88bpbIHy",
        "outputId": "b1ce9634-fe00-4b8b-ac08-ff4975bc5de0"
      },
      "outputs": [
        {
          "data": {
            "image/png": "[encoded data removed]",
            "text/plain": [
              "<Figure size 640x480 with 1 Axes>"
            ]
          },
          "metadata": {},
          "output_type": "display_data"
        }
      ],
      "source": [
        "plot_detections(image_array, detections, \"cute_cats.png\")"
      ]
    },
    {
      "cell_type": "code",
      "execution_count": 27,
      "metadata": {
        "colab": {
          "base_uri": "https://localhost:8080/",
          "height": 542
        },
        "id": "MTvtFQ9DAf06",
        "outputId": "951d18ee-9af8-44d4-d318-b8cdd3220419"
      },
      "outputs": [
        {
          "ename": "ValueError",
          "evalue": "Mime type rendering requires nbformat>=4.2.0 but it is not installed",
          "output_type": "error",
          "traceback": [
            "\u001b[1;31m---------------------------------------------------------------------------\u001b[0m",
            "\u001b[1;31mValueError\u001b[0m                                Traceback (most recent call last)",
            "Cell \u001b[1;32mIn[27], line 1\u001b[0m\n\u001b[1;32m----> 1\u001b[0m \u001b[43mplot_detections_plotly\u001b[49m\u001b[43m(\u001b[49m\u001b[43mimage_array\u001b[49m\u001b[43m,\u001b[49m\u001b[43m \u001b[49m\u001b[43mdetections\u001b[49m\u001b[43m)\u001b[49m\n",
            "Cell \u001b[1;32mIn[9], line 121\u001b[0m, in \u001b[0;36mplot_detections_plotly\u001b[1;34m(image, detections, class_colors)\u001b[0m\n\u001b[0;32m     99\u001b[0m fig\u001b[38;5;241m.\u001b[39mupdate_layout(\n\u001b[0;32m    100\u001b[0m     xaxis\u001b[38;5;241m=\u001b[39m\u001b[38;5;28mdict\u001b[39m(visible\u001b[38;5;241m=\u001b[39m\u001b[38;5;28;01mFalse\u001b[39;00m),\n\u001b[0;32m    101\u001b[0m     yaxis\u001b[38;5;241m=\u001b[39m\u001b[38;5;28mdict\u001b[39m(visible\u001b[38;5;241m=\u001b[39m\u001b[38;5;28;01mFalse\u001b[39;00m),\n\u001b[1;32m   (...)\u001b[0m\n\u001b[0;32m    117\u001b[0m     )\n\u001b[0;32m    118\u001b[0m )\n\u001b[0;32m    120\u001b[0m \u001b[38;5;66;03m# Show plot\u001b[39;00m\n\u001b[1;32m--> 121\u001b[0m \u001b[43mfig\u001b[49m\u001b[38;5;241;43m.\u001b[39;49m\u001b[43mshow\u001b[49m\u001b[43m(\u001b[49m\u001b[43m)\u001b[49m\n",
            "File \u001b[1;32mc:\\Users\\Biele\\.conda\\envs\\vision\\Lib\\site-packages\\plotly\\basedatatypes.py:3410\u001b[0m, in \u001b[0;36mBaseFigure.show\u001b[1;34m(self, *args, **kwargs)\u001b[0m\n\u001b[0;32m   3377\u001b[0m \u001b[38;5;250m\u001b[39m\u001b[38;5;124;03m\"\"\"\u001b[39;00m\n\u001b[0;32m   3378\u001b[0m \u001b[38;5;124;03mShow a figure using either the default renderer(s) or the renderer(s)\u001b[39;00m\n\u001b[0;32m   3379\u001b[0m \u001b[38;5;124;03mspecified by the renderer argument\u001b[39;00m\n\u001b[1;32m   (...)\u001b[0m\n\u001b[0;32m   3406\u001b[0m \u001b[38;5;124;03mNone\u001b[39;00m\n\u001b[0;32m   3407\u001b[0m \u001b[38;5;124;03m\"\"\"\u001b[39;00m\n\u001b[0;32m   3408\u001b[0m \u001b[38;5;28;01mimport\u001b[39;00m \u001b[38;5;21;01mplotly\u001b[39;00m\u001b[38;5;21;01m.\u001b[39;00m\u001b[38;5;21;01mio\u001b[39;00m \u001b[38;5;28;01mas\u001b[39;00m \u001b[38;5;21;01mpio\u001b[39;00m\n\u001b[1;32m-> 3410\u001b[0m \u001b[38;5;28;01mreturn\u001b[39;00m \u001b[43mpio\u001b[49m\u001b[38;5;241;43m.\u001b[39;49m\u001b[43mshow\u001b[49m\u001b[43m(\u001b[49m\u001b[38;5;28;43mself\u001b[39;49m\u001b[43m,\u001b[49m\u001b[43m \u001b[49m\u001b[38;5;241;43m*\u001b[39;49m\u001b[43margs\u001b[49m\u001b[43m,\u001b[49m\u001b[43m \u001b[49m\u001b[38;5;241;43m*\u001b[39;49m\u001b[38;5;241;43m*\u001b[39;49m\u001b[43mkwargs\u001b[49m\u001b[43m)\u001b[49m\n",
            "File \u001b[1;32mc:\\Users\\Biele\\.conda\\envs\\vision\\Lib\\site-packages\\plotly\\io\\_renderers.py:394\u001b[0m, in \u001b[0;36mshow\u001b[1;34m(fig, renderer, validate, **kwargs)\u001b[0m\n\u001b[0;32m    389\u001b[0m         \u001b[38;5;28;01mraise\u001b[39;00m \u001b[38;5;167;01mValueError\u001b[39;00m(\n\u001b[0;32m    390\u001b[0m             \u001b[38;5;124m\"\u001b[39m\u001b[38;5;124mMime type rendering requires ipython but it is not installed\u001b[39m\u001b[38;5;124m\"\u001b[39m\n\u001b[0;32m    391\u001b[0m         )\n\u001b[0;32m    393\u001b[0m     \u001b[38;5;28;01mif\u001b[39;00m \u001b[38;5;129;01mnot\u001b[39;00m nbformat \u001b[38;5;129;01mor\u001b[39;00m Version(nbformat\u001b[38;5;241m.\u001b[39m__version__) \u001b[38;5;241m<\u001b[39m Version(\u001b[38;5;124m\"\u001b[39m\u001b[38;5;124m4.2.0\u001b[39m\u001b[38;5;124m\"\u001b[39m):\n\u001b[1;32m--> 394\u001b[0m         \u001b[38;5;28;01mraise\u001b[39;00m \u001b[38;5;167;01mValueError\u001b[39;00m(\n\u001b[0;32m    395\u001b[0m             \u001b[38;5;124m\"\u001b[39m\u001b[38;5;124mMime type rendering requires nbformat>=4.2.0 but it is not installed\u001b[39m\u001b[38;5;124m\"\u001b[39m\n\u001b[0;32m    396\u001b[0m         )\n\u001b[0;32m    398\u001b[0m     ipython_display\u001b[38;5;241m.\u001b[39mdisplay(bundle, raw\u001b[38;5;241m=\u001b[39m\u001b[38;5;28;01mTrue\u001b[39;00m)\n\u001b[0;32m    400\u001b[0m \u001b[38;5;66;03m# external renderers\u001b[39;00m\n",
            "\u001b[1;31mValueError\u001b[0m: Mime type rendering requires nbformat>=4.2.0 but it is not installed"
          ]
        }
      ],
      "source": [
        "plot_detections_plotly(image_array, detections)"
      ]
    }
  ],
  "metadata": {
    "accelerator": "GPU",
    "colab": {
      "gpuType": "T4",
      "include_colab_link": true,
      "provenance": []
    },
    "kernelspec": {
      "display_name": "Python 3",
      "name": "python3"
    },
    "language_info": {
      "codemirror_mode": {
        "name": "ipython",
        "version": 3
      },
      "file_extension": ".py",
      "mimetype": "text/x-python",
      "name": "python",
      "nbconvert_exporter": "python",
      "pygments_lexer": "ipython3",
      "version": "3.11.9"
    }
  },
  "nbformat": 4,
  "nbformat_minor": 0
}
